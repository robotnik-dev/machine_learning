{
 "cells": [
  {
   "cell_type": "markdown",
   "id": "cec9a4f4",
   "metadata": {},
   "source": [
    "### Aufgabe 3\n",
    "Schreibe eine Klasse `ImageDataset`.\n",
    "\n",
    "Diese Klasse soll zunächst nur ein Attribut `img_paths` bekommen, welches durch eine Klassenmethode `load_paths` geschrieben wird. In der `__init__(s, base_path)` steht also:\n",
    "\n",
    "```\n",
    "def __init(s, base_path):\n",
    "    s.img_paths = s.load_paths(base_path)\n",
    "```\n",
    "\n",
    "In `s.img_paths` sind Tupel gelistet, die jeweils den Pfad zu einem Bild und das zugehörige Label beinhalten.\n",
    "\n",
    "Außerdem wird eine Klassenmethode `__getitem__(s, idx)` benötigt, welche mit Hilfe des `idx` auf oben beschriebene Liste zugreift, das Bild lädt und normalisiert und ein Tupel aus Bild und Label (als Integer Zahl) zurüc liefert."
   ]
  },
  {
   "cell_type": "code",
   "execution_count": 2,
   "id": "456cf1cd",
   "metadata": {},
   "outputs": [],
   "source": [
    "import os\n",
    "from utils import load_image, convert_image"
   ]
  },
  {
   "cell_type": "code",
   "execution_count": 7,
   "id": "5d91f6fe",
   "metadata": {},
   "outputs": [],
   "source": [
    "class ImageDataset():\n",
    "    \"\"\"\n",
    "    your code goes here\n",
    "    \"\"\""
   ]
  },
  {
   "cell_type": "code",
   "execution_count": null,
   "id": "24861815",
   "metadata": {
    "scrolled": true
   },
   "outputs": [],
   "source": [
    "train_path = \"./data/MYON/train/\"\n",
    "test_path = \"./data/MYON/test/\"\n",
    "\n",
    "train_dataset = ImageDataset(train_path)\n",
    "test_dataset = ImageDataset(test_path)\n",
    "\n",
    "import matplotlib.pyplot as plt\n",
    "plt.imshow(train_dataset[0][0])"
   ]
  },
  {
   "cell_type": "code",
   "execution_count": null,
   "id": "91820c68",
   "metadata": {},
   "outputs": [],
   "source": []
  }
 ],
 "metadata": {
  "kernelspec": {
   "display_name": "Python 3.10.4 64-bit",
   "language": "python",
   "name": "python3"
  },
  "language_info": {
   "codemirror_mode": {
    "name": "ipython",
    "version": 3
   },
   "file_extension": ".py",
   "mimetype": "text/x-python",
   "name": "python",
   "nbconvert_exporter": "python",
   "pygments_lexer": "ipython3",
   "version": "3.10.4"
  },
  "vscode": {
   "interpreter": {
    "hash": "7026bbbdf4cdbf9c6bce5d674fcbbc4f2dcc75c4a082704626108b6399b265df"
   }
  }
 },
 "nbformat": 4,
 "nbformat_minor": 5
}
