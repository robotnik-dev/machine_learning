{
 "cells": [
  {
   "cell_type": "markdown",
   "id": "4e84b5b5",
   "metadata": {},
   "source": [
    "### Aufgabe 1\n",
    "Die meisten Algorithmen arbeiten am besten auf schwarz-weiß Bildern und wenn Bilder auf [0,...,1] normiert sind und diese Spanne auch voll ausnutzen.\n",
    "Schreibe eine Funktion `convert_image(img)` die ein Bild `img` nimmt und das Bild normalisiert und zu schwarz weiß konvertiert zurück gibt. "
   ]
  },
  {
   "cell_type": "code",
   "execution_count": 10,
   "id": "c4d57e12",
   "metadata": {},
   "outputs": [],
   "source": [
    "import os"
   ]
  },
  {
   "cell_type": "code",
   "execution_count": 3,
   "id": "a62668e6",
   "metadata": {},
   "outputs": [],
   "source": [
    "import numpy as np\n",
    "from utils import load_image"
   ]
  },
  {
   "cell_type": "code",
   "execution_count": 81,
   "id": "58880b9b",
   "metadata": {},
   "outputs": [],
   "source": [
    "def convert_image(img):\n",
    "    minimum = np.min(img)\n",
    "    img_normed = []\n",
    "    for row in img:\n",
    "        temp = []\n",
    "        for rgb in row:\n",
    "            gray = (0.2989 * (rgb[0] - minimum) + 0.5870 * ( rgb[1] - minimum) + 0.1140 * (rgb[2] - minimum))\n",
    "            temp.append(gray)\n",
    "        temp = [float(i)/max(temp) for i in temp]\n",
    "        img_normed.append(temp)\n",
    "\n",
    "    return img_normed"
   ]
  },
  {
   "cell_type": "code",
   "execution_count": 82,
   "id": "b0fb6361",
   "metadata": {},
   "outputs": [
    {
     "name": "stdout",
     "output_type": "stream",
     "text": [
      "Minimum vorher:  52 Maximum vorher: 175\n",
      "Minimum nachher:  0.13416535353171105 Maximum nachher: 1.0\n"
     ]
    }
   ],
   "source": [
    "p = \"../data/MYON/train/4/08492.ppm\"\n",
    "img = load_image(p)\n",
    "img_normed = convert_image(img)\n",
    "print(\"Minimum vorher: \", np.min(img), \"Maximum vorher:\", np.max(img))\n",
    "print(\"Minimum nachher: \", np.min(img_normed), \"Maximum nachher:\", np.max(img_normed))"
   ]
  },
  {
   "cell_type": "code",
   "execution_count": 83,
   "id": "00450ff5",
   "metadata": {},
   "outputs": [
    {
     "data": {
      "text/plain": [
       "<matplotlib.image.AxesImage at 0x7f258fe9d2e0>"
      ]
     },
     "execution_count": 83,
     "metadata": {},
     "output_type": "execute_result"
    },
    {
     "data": {
      "image/png": "[encoded data removed]",
      "text/plain": [
       "<Figure size 640x480 with 2 Axes>"
      ]
     },
     "metadata": {},
     "output_type": "display_data"
    }
   ],
   "source": [
    "import matplotlib.pyplot as plt\n",
    "plt.subplot(1,2,1)\n",
    "plt.imshow(img)\n",
    "plt.subplot(1,2,2)\n",
    "plt.imshow(img_normed, cmap=\"gray\")"
   ]
  },
  {
   "cell_type": "code",
   "execution_count": null,
   "id": "c007aeba",
   "metadata": {},
   "outputs": [],
   "source": []
  }
 ],
 "metadata": {
  "kernelspec": {
   "display_name": "Python 3.8.10 ('.venv': venv)",
   "language": "python",
   "name": "python3"
  },
  "language_info": {
   "codemirror_mode": {
    "name": "ipython",
    "version": 3
   },
   "file_extension": ".py",
   "mimetype": "text/x-python",
   "name": "python",
   "nbconvert_exporter": "python",
   "pygments_lexer": "ipython3",
   "version": "3.8.10"
  },
  "vscode": {
   "interpreter": {
    "hash": "c1b0947c14246c20a0a6a61f4f6c89de9c062f3adf9d61bef5b77adedfa6fa7f"
   }
  }
 },
 "nbformat": 4,
 "nbformat_minor": 5
}
