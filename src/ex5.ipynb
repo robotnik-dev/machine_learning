{
 "cells": [
  {
   "cell_type": "markdown",
   "id": "6aa1fef0",
   "metadata": {},
   "source": [
    "# Aufgabe 5\n",
    "Für die fertige Datenset Klasse fehlt noch eine Funktionalität.\n",
    "Wir wollen der Klasse eine Menge von Transformationen mitgeben, die auf alle Bilder angewendet werden sollen. Dabei beachten wir für jetzt nur Transformationen auf dem bereits konvertierten Graustufenbild.\n",
    "\n",
    "In Zelle 2 findest du eine Funktion `gaussian(x)`, die das Bild mit einem Gauß-Filter filtert. Diese kannst du als Testtransformation nutzen.\n",
    "\n",
    "Erweitere die `__init__` Funktion der Klasse, sodass eine Transformation `transform=` mitgegeben werden kann (aber nicht muss). Diese soll dann (falls vorhanden) auf das Bild angewendet werden, bevor es in `__getitem__` zurückgegeben wird.\n",
    "\n",
    "Falls du noch mehr ausprobieren willst, erstelle eigene Transformationen. Zum Beispiel:\n",
    "- Verschieben des Bildes (zufällig um kleine Deltas in x oder y Richtung\n",
    "- Verändern der Farben\n",
    "- Addition von random Werten auf alle Pixel (ist auch eine Veränderung der Farben)\n",
    "- Eigene Ideen um mehr Variation in die Daten zu bekommen"
   ]
  },
  {
   "cell_type": "code",
   "execution_count": 2,
   "id": "a4f0dae0",
   "metadata": {},
   "outputs": [
    {
     "ename": "ModuleNotFoundError",
     "evalue": "No module named 'numpy'",
     "output_type": "error",
     "traceback": [
      "\u001b[1;31m---------------------------------------------------------------------------\u001b[0m",
      "\u001b[1;31mModuleNotFoundError\u001b[0m                       Traceback (most recent call last)",
      "Cell \u001b[1;32mIn [2], line 1\u001b[0m\n\u001b[1;32m----> 1\u001b[0m \u001b[39mimport\u001b[39;00m \u001b[39mnumpy\u001b[39;00m \u001b[39mas\u001b[39;00m \u001b[39mnp\u001b[39;00m\n\u001b[0;32m      2\u001b[0m \u001b[39mimport\u001b[39;00m \u001b[39mos\u001b[39;00m\n\u001b[0;32m      3\u001b[0m \u001b[39mfrom\u001b[39;00m \u001b[39mutils\u001b[39;00m \u001b[39mimport\u001b[39;00m load_image, convert_image\n",
      "\u001b[1;31mModuleNotFoundError\u001b[0m: No module named 'numpy'"
     ]
    }
   ],
   "source": [
    "import numpy as np\n",
    "import os\n",
    "from utils import load_image, convert_image"
   ]
  },
  {
   "cell_type": "code",
   "execution_count": null,
   "id": "39b2db75",
   "metadata": {},
   "outputs": [],
   "source": [
    "def gaussian(a):\n",
    "    kernel = np.array([1, 2, 1]) # Here you would insert your actual kernel of any size\n",
    "    norm = np.sum(np.outer(kernel, kernel))\n",
    "    a = np.apply_along_axis(lambda x: np.convolve(x, kernel, mode='same'), 0, a)\n",
    "    a = np.apply_along_axis(lambda x: np.convolve(x, kernel, mode='same'), 1, a)\n",
    "    return a/norm"
   ]
  },
  {
   "cell_type": "code",
   "execution_count": null,
   "id": "5f37bb3e",
   "metadata": {},
   "outputs": [],
   "source": [
    "class ImageDataset():\n",
    "    def __init__(s, base_path, transform=None):\n",
    "        s.img_paths = s.load_paths(base_path)\n",
    "        s.tranform = transform\n",
    "\n",
    "    def load_paths(s, p):\n",
    "        labels = [l for l in os.listdir(p) if l.isdigit()]\n",
    "        images = [(p+label+\"/\"+f, label)  for label in labels for f in os.listdir(p+label)]\n",
    "        return images\n",
    "    \n",
    "    def __getitem__(s, idx):\n",
    "        img_p, lbl = s.img_paths[idx]\n",
    "        image = load_image(img_p)\n",
    "        image = convert_image(image)\n",
    "        image = s.tranform(image)\n",
    "        label = int(lbl)\n",
    "        return image, label\n",
    "    \n",
    "    def __len__(s):\n",
    "        return len(s.img_objects)\n",
    "\n",
    "    def show_batch(self, b):\n",
    "        img,lbl = s.__getitem__(0)\n",
    "        size = int(np.sqrt(b))\n",
    "        figure = plt.figure(figsize=(2*size, 2*size))\n",
    "        cols, rows = 2*size, size//2\n",
    "        for i in range(1, cols * rows + 1):\n",
    "            sample_idx = torch.randint(len(self), size=(1,)).item()\n",
    "            img, label = s.__getitem__(sample_idx)\n",
    "            figure.add_subplot(rows, cols, i)\n",
    "            plt.title(str(label))\n",
    "            plt.axis(\"off\")\n",
    "            plt.imshow(img.squeeze(), cmap=\"gray\")\n",
    "        plt.show()"
   ]
  },
  {
   "cell_type": "code",
   "execution_count": null,
   "id": "0f9d25cd",
   "metadata": {},
   "outputs": [],
   "source": [
    "train_path = \"./data/MYON/train/\"\n",
    "\n",
    "train_dataset = ImageDataset(train_path, transform=gaussian)\n",
    "\n",
    "import matplotlib.pyplot as plt\n",
    "plt.imshow(train_dataset[0][0], cmap=\"gray\")"
   ]
  },
  {
   "cell_type": "code",
   "execution_count": null,
   "id": "a0dbde2e",
   "metadata": {},
   "outputs": [],
   "source": []
  }
 ],
 "metadata": {
  "kernelspec": {
   "display_name": "Python 3.10.6 ('.venv': venv)",
   "language": "python",
   "name": "python3"
  },
  "language_info": {
   "codemirror_mode": {
    "name": "ipython",
    "version": 3
   },
   "file_extension": ".py",
   "mimetype": "text/x-python",
   "name": "python",
   "nbconvert_exporter": "python",
   "pygments_lexer": "ipython3",
   "version": "3.10.6"
  },
  "vscode": {
   "interpreter": {
    "hash": "c1b0947c14246c20a0a6a61f4f6c89de9c062f3adf9d61bef5b77adedfa6fa7f"
   }
  }
 },
 "nbformat": 4,
 "nbformat_minor": 5
}
