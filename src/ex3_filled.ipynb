{
 "cells": [
  {
   "cell_type": "markdown",
   "id": "cec9a4f4",
   "metadata": {},
   "source": [
    "### Aufgabe 3\n",
    "Schreibe eine Klasse `ImageDataset`.\n",
    "\n",
    "Diese Klasse soll zunächst nur ein Attribut `img_paths` bekommen, welches durch eine Klassenmethode `load_paths` geschrieben wird. In der `__init__(s, base_path)` steht also:\n",
    "\n",
    "```\n",
    "def __init(s, base_path):\n",
    "    s.img_paths = s.load_paths(base_path)\n",
    "```\n",
    "\n",
    "In `s.img_paths` sind Tupel gelistet, die jeweils den Pfad zu einem Bild und das zugehörige Label beinhalten.\n",
    "\n",
    "Außerdem wird eine Klassenmethode `__getitem__(s, idx)` benötigt, welche mit Hilfe des `idx` auf oben beschriebene Liste zugreift, das Bild lädt und normalisiert und ein Tupel aus Bild und Label (als Integer Zahl) zurüc liefert."
   ]
  },
  {
   "cell_type": "code",
   "execution_count": 2,
   "id": "456cf1cd",
   "metadata": {},
   "outputs": [],
   "source": [
    "import os\n",
    "from utils import load_image, convert_image"
   ]
  },
  {
   "cell_type": "code",
   "execution_count": 7,
   "id": "5d91f6fe",
   "metadata": {},
   "outputs": [],
   "source": [
    "class ImageDataset():\n",
    "    def __init__(s, base_path):\n",
    "        s.img_paths = s.load_paths(base_path)\n",
    "\n",
    "    def load_paths(s, p):\n",
    "        labels = [l for l in os.listdir(p) if l.isdigit()]\n",
    "        images = [(p+label+\"/\"+f, label)  for label in labels for f in os.listdir(p+label)]\n",
    "        return images\n",
    "    \n",
    "    def __getitem__(s, idx):\n",
    "        img_p, lbl = s.img_paths[idx]\n",
    "        image = load_image(img_p)\n",
    "        image = convert_image(image)\n",
    "        label = int(lbl)\n",
    "        return image, label\n",
    "    \n",
    "    def __len__(s):\n",
    "        return len(s.img_objects)\n",
    "\n",
    "    def show_batch(self, b):\n",
    "        img,lbl = s.__getitem__(0)\n",
    "        size = int(np.sqrt(b))\n",
    "        figure = plt.figure(figsize=(2*size, 2*size))\n",
    "        cols, rows = 2*size, size//2\n",
    "        for i in range(1, cols * rows + 1):\n",
    "            sample_idx = torch.randint(len(self), size=(1,)).item()\n",
    "            img, label = s.__getitem__(sample_idx)\n",
    "            figure.add_subplot(rows, cols, i)\n",
    "            plt.title(str(label))\n",
    "            plt.axis(\"off\")\n",
    "            plt.imshow(img.squeeze(), cmap=\"gray\")\n",
    "        plt.show()"
   ]
  },
  {
   "cell_type": "code",
   "execution_count": 8,
   "id": "24861815",
   "metadata": {},
   "outputs": [
    {
     "data": {
      "text/plain": [
       "<matplotlib.image.AxesImage at 0x21173f9ef40>"
      ]
     },
     "execution_count": 8,
     "metadata": {},
     "output_type": "execute_result"
    },
    {
     "data": {
      "image/png": "[encoded data removed]",
      "text/plain": [
       "<Figure size 432x288 with 1 Axes>"
      ]
     },
     "metadata": {
      "needs_background": "light"
     },
     "output_type": "display_data"
    }
   ],
   "source": [
    "train_path = \"./data/MYON/train/\"\n",
    "test_path = \"./data/MYON/test/\"\n",
    "\n",
    "train_dataset = ImageDataset(train_path)\n",
    "test_dataset = ImageDataset(test_path)\n",
    "\n",
    "import matplotlib.pyplot as plt\n",
    "plt.imshow(train_dataset[0][0])"
   ]
  },
  {
   "cell_type": "code",
   "execution_count": null,
   "id": "91820c68",
   "metadata": {},
   "outputs": [],
   "source": []
  }
 ],
 "metadata": {
  "kernelspec": {
   "display_name": "Python 3.10.6 ('.venv': venv)",
   "language": "python",
   "name": "python3"
  },
  "language_info": {
   "codemirror_mode": {
    "name": "ipython",
    "version": 3
   },
   "file_extension": ".py",
   "mimetype": "text/x-python",
   "name": "python",
   "nbconvert_exporter": "python",
   "pygments_lexer": "ipython3",
   "version": "3.10.6"
  },
  "vscode": {
   "interpreter": {
    "hash": "c1b0947c14246c20a0a6a61f4f6c89de9c062f3adf9d61bef5b77adedfa6fa7f"
   }
  }
 },
 "nbformat": 4,
 "nbformat_minor": 5
}
