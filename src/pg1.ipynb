{
 "cells": [
  {
   "cell_type": "markdown",
   "id": "b59cfa46",
   "metadata": {},
   "source": [
    "### Variablen und Datentypen"
   ]
  },
  {
   "cell_type": "code",
   "execution_count": 6,
   "id": "0158fe63",
   "metadata": {},
   "outputs": [
    {
     "name": "stdout",
     "output_type": "stream",
     "text": [
      "Help on built-in function print in module builtins:\n",
      "\n",
      "print(...)\n",
      "    print(value, ..., sep=' ', end='\\n', file=sys.stdout, flush=False)\n",
      "    \n",
      "    Prints the values to a stream, or to sys.stdout by default.\n",
      "    Optional keyword arguments:\n",
      "    file:  a file-like object (stream); defaults to the current sys.stdout.\n",
      "    sep:   string inserted between values, default a space.\n",
      "    end:   string appended after the last value, default a newline.\n",
      "    flush: whether to forcibly flush the stream.\n",
      "\n"
     ]
    }
   ],
   "source": [
    "help(print)"
   ]
  },
  {
   "cell_type": "code",
   "execution_count": 7,
   "id": "ee801744",
   "metadata": {},
   "outputs": [
    {
     "name": "stdout",
     "output_type": "stream",
     "text": [
      "Hello World"
     ]
    }
   ],
   "source": [
    "print(\"Hello\", end=\" World\")"
   ]
  },
  {
   "cell_type": "code",
   "execution_count": 9,
   "id": "8e2a89ff",
   "metadata": {},
   "outputs": [],
   "source": [
    "x =  5\n",
    "y = -12.4"
   ]
  },
  {
   "cell_type": "code",
   "execution_count": 12,
   "id": "df2d5e13",
   "metadata": {},
   "outputs": [],
   "source": [
    "z = x + y"
   ]
  },
  {
   "cell_type": "code",
   "execution_count": 13,
   "id": "d82f5901",
   "metadata": {},
   "outputs": [
    {
     "name": "stdout",
     "output_type": "stream",
     "text": [
      "-7.4\n"
     ]
    }
   ],
   "source": [
    "print(z)"
   ]
  },
  {
   "cell_type": "code",
   "execution_count": 18,
   "id": "aa054889",
   "metadata": {},
   "outputs": [
    {
     "ename": "TypeError",
     "evalue": "float expected at most 1 argument, got 2",
     "output_type": "error",
     "traceback": [
      "\u001b[1;31m---------------------------------------------------------------------------\u001b[0m",
      "\u001b[1;31mTypeError\u001b[0m                                 Traceback (most recent call last)",
      "\u001b[1;32m<ipython-input-18-28234567869d>\u001b[0m in \u001b[0;36m<module>\u001b[1;34m\u001b[0m\n\u001b[1;32m----> 1\u001b[1;33m \u001b[0ms\u001b[0m \u001b[1;33m=\u001b[0m \u001b[0mfloat\u001b[0m\u001b[1;33m(\u001b[0m\u001b[1;36m5\u001b[0m\u001b[1;33m,\u001b[0m\u001b[1;36m4\u001b[0m\u001b[1;33m)\u001b[0m\u001b[1;33m\u001b[0m\u001b[1;33m\u001b[0m\u001b[0m\n\u001b[0m\u001b[0;32m      2\u001b[0m \u001b[0mprint\u001b[0m\u001b[1;33m(\u001b[0m\u001b[0ms\u001b[0m\u001b[1;33m)\u001b[0m\u001b[1;33m\u001b[0m\u001b[1;33m\u001b[0m\u001b[0m\n",
      "\u001b[1;31mTypeError\u001b[0m: float expected at most 1 argument, got 2"
     ]
    }
   ],
   "source": [
    "s = float(5,4)\n",
    "print(s)"
   ]
  },
  {
   "cell_type": "markdown",
   "id": "18884be7",
   "metadata": {},
   "source": [
    "Listen sind n"
   ]
  },
  {
   "cell_type": "code",
   "execution_count": 21,
   "id": "f34ecc0d",
   "metadata": {},
   "outputs": [
    {
     "name": "stdout",
     "output_type": "stream",
     "text": [
      "[8, 12, 39]\n",
      "[8, 12, 39]\n",
      "[8, 12, 39]\n",
      "[8, 12, 4]\n"
     ]
    },
    {
     "ename": "TypeError",
     "evalue": "'tuple' object does not support item assignment",
     "output_type": "error",
     "traceback": [
      "\u001b[1;31m---------------------------------------------------------------------------\u001b[0m",
      "\u001b[1;31mTypeError\u001b[0m                                 Traceback (most recent call last)",
      "\u001b[1;32m<ipython-input-21-9ea36cb524ef>\u001b[0m in \u001b[0;36m<module>\u001b[1;34m\u001b[0m\n\u001b[0;32m      7\u001b[0m \u001b[0mprint\u001b[0m\u001b[1;33m(\u001b[0m\u001b[0ml1\u001b[0m\u001b[1;33m)\u001b[0m\u001b[1;33m\u001b[0m\u001b[1;33m\u001b[0m\u001b[0m\n\u001b[0;32m      8\u001b[0m \u001b[0mprint\u001b[0m\u001b[1;33m(\u001b[0m\u001b[0ml2\u001b[0m\u001b[1;33m)\u001b[0m\u001b[1;33m\u001b[0m\u001b[1;33m\u001b[0m\u001b[0m\n\u001b[1;32m----> 9\u001b[1;33m \u001b[0mt\u001b[0m\u001b[1;33m[\u001b[0m\u001b[1;36m2\u001b[0m\u001b[1;33m]\u001b[0m \u001b[1;33m=\u001b[0m \u001b[1;36m4\u001b[0m\u001b[1;33m\u001b[0m\u001b[1;33m\u001b[0m\u001b[0m\n\u001b[0m",
      "\u001b[1;31mTypeError\u001b[0m: 'tuple' object does not support item assignment"
     ]
    }
   ],
   "source": [
    "l1 = [8, 12, 39]\n",
    "t = (8, 12, 39)\n",
    "l2 = l1[:]\n",
    "print(l1)\n",
    "print(l2)\n",
    "l2[2] = 4\n",
    "print(l1)\n",
    "print(l2)\n",
    "t[2] = 4"
   ]
  },
  {
   "cell_type": "code",
   "execution_count": 41,
   "id": "325538eb",
   "metadata": {},
   "outputs": [],
   "source": [
    "d = {1:\"Simon\", 2:\"Rest of the World\"}"
   ]
  },
  {
   "cell_type": "code",
   "execution_count": 36,
   "id": "34d73d1c",
   "metadata": {},
   "outputs": [
    {
     "name": "stdout",
     "output_type": "stream",
     "text": [
      "Simon\n",
      "dict_keys([1, 2])\n",
      "dict_values(['Simon', 'Rest of the World'])\n",
      "dict_items([(1, 'Simon'), (2, 'Rest of the World')])\n"
     ]
    }
   ],
   "source": [
    "print(d[1])\n",
    "print(d.keys())\n",
    "print(d.values())\n",
    "print(d.items())"
   ]
  },
  {
   "cell_type": "code",
   "execution_count": 38,
   "id": "6e66568c",
   "metadata": {},
   "outputs": [
    {
     "data": {
      "text/plain": [
       "(1, 'Simon')"
      ]
     },
     "execution_count": 38,
     "metadata": {},
     "output_type": "execute_result"
    }
   ],
   "source": [
    "list(d.items())[0]"
   ]
  },
  {
   "cell_type": "code",
   "execution_count": 43,
   "id": "11a04213",
   "metadata": {},
   "outputs": [
    {
     "name": "stdout",
     "output_type": "stream",
     "text": [
      "1 Simon\n",
      "2 Rest of the World\n"
     ]
    }
   ],
   "source": [
    "for key, value in d.items():\n",
    "    print(key, value)"
   ]
  },
  {
   "cell_type": "code",
   "execution_count": 45,
   "id": "240d6a88",
   "metadata": {},
   "outputs": [
    {
     "data": {
      "text/plain": [
       "[8, 12, 39]"
      ]
     },
     "execution_count": 45,
     "metadata": {},
     "output_type": "execute_result"
    }
   ],
   "source": [
    "l1"
   ]
  },
  {
   "cell_type": "code",
   "execution_count": 47,
   "id": "bae1e746",
   "metadata": {},
   "outputs": [
    {
     "name": "stdout",
     "output_type": "stream",
     "text": [
      "64\n",
      "144\n",
      "1521\n",
      "[64, 144, 1521]\n"
     ]
    }
   ],
   "source": [
    "l3 = []\n",
    "for n in l1:\n",
    "    print(n**2)\n",
    "    l3.append(n**2)\n",
    "print(l3)"
   ]
  },
  {
   "cell_type": "code",
   "execution_count": 48,
   "id": "f92f7b06",
   "metadata": {},
   "outputs": [
    {
     "name": "stdout",
     "output_type": "stream",
     "text": [
      "[64, 144, 1521]\n"
     ]
    }
   ],
   "source": [
    "l4 = [n**2 for n in l1]\n",
    "print(l4)"
   ]
  },
  {
   "cell_type": "code",
   "execution_count": 50,
   "id": "4e44b81c",
   "metadata": {},
   "outputs": [
    {
     "name": "stdout",
     "output_type": "stream",
     "text": [
      "{1: 'Simon', 2: 'Rest of the World'}\n"
     ]
    }
   ],
   "source": [
    "d1 = {key:value for key, value in d.items()}\n",
    "print(d1)"
   ]
  },
  {
   "cell_type": "markdown",
   "id": "bb8791f7",
   "metadata": {},
   "source": [
    "### Daten laden"
   ]
  },
  {
   "cell_type": "code",
   "execution_count": 51,
   "id": "e8de9968",
   "metadata": {},
   "outputs": [],
   "source": [
    "p = \"../data/MYON/train/4/08492.ppm\""
   ]
  },
  {
   "cell_type": "code",
   "execution_count": 52,
   "id": "6b2864a3",
   "metadata": {},
   "outputs": [
    {
     "name": "stdout",
     "output_type": "stream",
     "text": [
      "Help on built-in function open in module io:\n",
      "\n",
      "open(file, mode='r', buffering=-1, encoding=None, errors=None, newline=None, closefd=True, opener=None)\n",
      "    Open file and return a stream.  Raise OSError upon failure.\n",
      "    \n",
      "    file is either a text or byte string giving the name (and the path\n",
      "    if the file isn't in the current working directory) of the file to\n",
      "    be opened or an integer file descriptor of the file to be\n",
      "    wrapped. (If a file descriptor is given, it is closed when the\n",
      "    returned I/O object is closed, unless closefd is set to False.)\n",
      "    \n",
      "    mode is an optional string that specifies the mode in which the file\n",
      "    is opened. It defaults to 'r' which means open for reading in text\n",
      "    mode.  Other common values are 'w' for writing (truncating the file if\n",
      "    it already exists), 'x' for creating and writing to a new file, and\n",
      "    'a' for appending (which on some Unix systems, means that all writes\n",
      "    append to the end of the file regardless of the current seek position).\n",
      "    In text mode, if encoding is not specified the encoding used is platform\n",
      "    dependent: locale.getpreferredencoding(False) is called to get the\n",
      "    current locale encoding. (For reading and writing raw bytes use binary\n",
      "    mode and leave encoding unspecified.) The available modes are:\n",
      "    \n",
      "    ========= ===============================================================\n",
      "    Character Meaning\n",
      "    --------- ---------------------------------------------------------------\n",
      "    'r'       open for reading (default)\n",
      "    'w'       open for writing, truncating the file first\n",
      "    'x'       create a new file and open it for writing\n",
      "    'a'       open for writing, appending to the end of the file if it exists\n",
      "    'b'       binary mode\n",
      "    't'       text mode (default)\n",
      "    '+'       open a disk file for updating (reading and writing)\n",
      "    'U'       universal newline mode (deprecated)\n",
      "    ========= ===============================================================\n",
      "    \n",
      "    The default mode is 'rt' (open for reading text). For binary random\n",
      "    access, the mode 'w+b' opens and truncates the file to 0 bytes, while\n",
      "    'r+b' opens the file without truncation. The 'x' mode implies 'w' and\n",
      "    raises an `FileExistsError` if the file already exists.\n",
      "    \n",
      "    Python distinguishes between files opened in binary and text modes,\n",
      "    even when the underlying operating system doesn't. Files opened in\n",
      "    binary mode (appending 'b' to the mode argument) return contents as\n",
      "    bytes objects without any decoding. In text mode (the default, or when\n",
      "    't' is appended to the mode argument), the contents of the file are\n",
      "    returned as strings, the bytes having been first decoded using a\n",
      "    platform-dependent encoding or using the specified encoding if given.\n",
      "    \n",
      "    'U' mode is deprecated and will raise an exception in future versions\n",
      "    of Python.  It has no effect in Python 3.  Use newline to control\n",
      "    universal newlines mode.\n",
      "    \n",
      "    buffering is an optional integer used to set the buffering policy.\n",
      "    Pass 0 to switch buffering off (only allowed in binary mode), 1 to select\n",
      "    line buffering (only usable in text mode), and an integer > 1 to indicate\n",
      "    the size of a fixed-size chunk buffer.  When no buffering argument is\n",
      "    given, the default buffering policy works as follows:\n",
      "    \n",
      "    * Binary files are buffered in fixed-size chunks; the size of the buffer\n",
      "      is chosen using a heuristic trying to determine the underlying device's\n",
      "      \"block size\" and falling back on `io.DEFAULT_BUFFER_SIZE`.\n",
      "      On many systems, the buffer will typically be 4096 or 8192 bytes long.\n",
      "    \n",
      "    * \"Interactive\" text files (files for which isatty() returns True)\n",
      "      use line buffering.  Other text files use the policy described above\n",
      "      for binary files.\n",
      "    \n",
      "    encoding is the name of the encoding used to decode or encode the\n",
      "    file. This should only be used in text mode. The default encoding is\n",
      "    platform dependent, but any encoding supported by Python can be\n",
      "    passed.  See the codecs module for the list of supported encodings.\n",
      "    \n",
      "    errors is an optional string that specifies how encoding errors are to\n",
      "    be handled---this argument should not be used in binary mode. Pass\n",
      "    'strict' to raise a ValueError exception if there is an encoding error\n",
      "    (the default of None has the same effect), or pass 'ignore' to ignore\n",
      "    errors. (Note that ignoring encoding errors can lead to data loss.)\n",
      "    See the documentation for codecs.register or run 'help(codecs.Codec)'\n",
      "    for a list of the permitted encoding error strings.\n",
      "    \n",
      "    newline controls how universal newlines works (it only applies to text\n",
      "    mode). It can be None, '', '\\n', '\\r', and '\\r\\n'.  It works as\n",
      "    follows:\n",
      "    \n",
      "    * On input, if newline is None, universal newlines mode is\n",
      "      enabled. Lines in the input can end in '\\n', '\\r', or '\\r\\n', and\n",
      "      these are translated into '\\n' before being returned to the\n",
      "      caller. If it is '', universal newline mode is enabled, but line\n",
      "      endings are returned to the caller untranslated. If it has any of\n",
      "      the other legal values, input lines are only terminated by the given\n",
      "      string, and the line ending is returned to the caller untranslated.\n",
      "    \n",
      "    * On output, if newline is None, any '\\n' characters written are\n",
      "      translated to the system default line separator, os.linesep. If\n",
      "      newline is '' or '\\n', no translation takes place. If newline is any\n",
      "      of the other legal values, any '\\n' characters written are translated\n",
      "      to the given string.\n",
      "    \n",
      "    If closefd is False, the underlying file descriptor will be kept open\n",
      "    when the file is closed. This does not work when a file name is given\n",
      "    and must be True in that case.\n",
      "    \n",
      "    A custom opener can be used by passing a callable as *opener*. The\n",
      "    underlying file descriptor for the file object is then obtained by\n",
      "    calling *opener* with (*file*, *flags*). *opener* must return an open\n",
      "    file descriptor (passing os.open as *opener* results in functionality\n",
      "    similar to passing None).\n",
      "    \n",
      "    open() returns a file object whose type depends on the mode, and\n",
      "    through which the standard file operations such as reading and writing\n",
      "    are performed. When open() is used to open a file in a text mode ('w',\n",
      "    'r', 'wt', 'rt', etc.), it returns a TextIOWrapper. When used to open\n",
      "    a file in a binary mode, the returned class varies: in read binary\n",
      "    mode, it returns a BufferedReader; in write binary and append binary\n",
      "    modes, it returns a BufferedWriter, and in read/write mode, it returns\n",
      "    a BufferedRandom.\n",
      "    \n",
      "    It is also possible to use a string or bytearray as a file for both\n",
      "    reading and writing. For strings StringIO can be used like a file\n",
      "    opened in a text mode, and for bytes a BytesIO can be used like a file\n",
      "    opened in a binary mode.\n",
      "\n"
     ]
    }
   ],
   "source": [
    "help(open)"
   ]
  },
  {
   "cell_type": "code",
   "execution_count": 54,
   "id": "6f6da70c",
   "metadata": {
    "scrolled": true
   },
   "outputs": [
    {
     "name": "stdout",
     "output_type": "stream",
     "text": [
      "b'P6\\n# SIUR\\n22 22\\n255\\n\\x9d\\xa0\\x96\\x94\\xa1\\x8d\\x90\\x98\\x8a\\x9b\\x9d\\x97\\x9d\\x96\\x95\\x9d\\x9c\\x95\\x97\\x9c\\x8f\\x92\\x9f\\x8b\\x98\\xa0\\x90\\x92\\x9e\\x91\\x97\\xa3\\x96\\x98\\xa4\\x95\\x97\\xa3\\x94\\x98\\x9f\\x94\\x99\\xa0\\x98\\x9b\\xa6\\x9b\\x94\\x9c\\x8c\\x99\\x9d\\x8e\\x9a\\x9b\\x92\\x9d\\xa0\\x94\\x9e\\xa7\\x93\\x95\\x9d\\x8b\\x8c\\x9b\\x8e\\x96\\xa8\\x97\\x92\\xa1\\x93\\x9a\\xa1\\x99\\x96\\x94\\x8f\\x99\\x97\\x90\\x98\\x9a\\x8e\\x9a\\x9a\\x91\\x98\\x9b\\x92\\x98\\xa3\\x9a\\x8f\\x9e\\x91\\x8f\\x9e\\x90\\x92\\xa0\\x90\\x93\\x9f\\x92\\x93\\x9e\\x95\\x93\\xa0\\x94\\x9a\\xa6\\x99\\x96\\x96\\x8b\\xa0\\x9c\\x94\\xa3\\x9d\\x96\\xa6\\xa1\\x95\\xa4\\xa3\\x94\\x9e\\xa2\\x99\\x94\\x99\\x8e\\x98\\x9d\\x92\\x98\\x9b\\x92\\x9f\\xa0\\x9a\\x99\\x9a\\x92\\x98\\x9a\\x8e\\x96\\x9a\\x93\\x96\\x99\\x98\\x94\\x9a\\x97\\x98\\x9f\\x97\\x92\\x9e\\x8f\\x95\\xa1\\x92\\xa1\\xa4\\x9a\\xa8\\xa8\\xa8\\x96\\x9d\\x93\\x90\\x97\\x8d\\x9b\\x9c\\x94\\xa3\\xa2\\x9b\\x99\\x97\\x92\\xa0\\x9e\\x99\\x9e\\x9e\\x91\\x9b\\x9a\\x95\\x98\\x96\\x8e\\x9d\\x9b\\x91\\x97\\x99\\x8d\\x97\\x9a\\x90\\x9f\\xa0\\x97\\x9d\\xa2\\x97\\x9f\\xa7\\x9f\\x93\\xa1\\x9b\\x95\\x9f\\x9b\\x95\\x95\\x94\\x9c\\x9b\\x98\\xa7\\xa8\\xa8\\x8c\\x8c\\x83nld\\x9a\\x9d\\x93\\x9b\\xa0\\x95\\x9d\\x9e\\x95\\x95\\x96\\x8d\\x9b\\x9e\\x95\\x9d\\x9e\\x96\\xa0\\xa0\\x97\\x9a\\x99\\x94\\xa1\\xa1\\x98\\xa0\\xa1\\x91\\x9a\\x9e\\x8c\\x9a\\x9c\\x90\\x9a\\x9b\\x92\\x9e\\x9c\\x94\\x90\\x8c\\x85\\x9a\\x9a\\x99\\x98\\x98\\x95\\x9c\\x9c\\x9d\\x9e\\x9d\\xa5\\xaa\\xaa\\xaab^Wa[]\\x98\\x98\\x8b\\x9a\\x9d\\x91\\x99\\x9d\\x8e\\x96\\x9b\\x8e\\x99\\xa1\\x93\\x96\\x99\\x8f\\x9a\\x9c\\x96\\x9c\\x9c\\x93\\x96\\x98\\x8c\\x99\\x9c\\x90\\x9c\\x9e\\x92\\x9d\\x9e\\x95\\x98\\x99\\x93\\xaa\\xa9\\xa9OPHNNN\\x96\\x95\\x90\\x9c\\x9b\\x96\\x9a\\x9a\\x99\\x95\\x95\\x95UCI\\x85zr\\xaa\\xa5\\x9b\\x9b\\x9b\\x92\\x9b\\x9d\\x91\\x96\\xa2\\x93\\x97\\xa3\\x94\\x9b\\xa2\\x97\\x94\\x9f\\x94\\x9e\\x9e\\x93\\x96\\x96\\x8b\\x9b\\x99\\x8f\\xa2\\xa3\\x9a\\x9b\\x9a\\x97\\xa6\\xa6\\xa6\\x99\\x99\\x99WBI|zr\\xa0\\xa4\\x9b\\x94\\x94\\x94\\xa6\\xa6\\xa6\\x96\\x8b\\x8bRGE\\x96\\x96\\x8d\\x96\\x98\\x92\\x9a\\xa0\\x9b\\x95\\x9c\\x92\\x95\\xa1\\x90\\x93\\x9f\\x90\\x8f\\x9b\\x8e\\x92\\x9e\\x91\\x9c\\x9c\\x93\\x9f\\x9b\\x8f\\x9a\\x96\\x8a\\x93\\x93\\x8a\\x95\\x95\\x94\\x96\\x96\\x96\\x98\\x8c\\x8aOJ@\\x8f\\x96\\x8b\\x92\\xa1\\x94\\x98\\x98\\x97\\xaa\\xaa\\xaa\\x8c\\x82}QOH\\x9b\\x9d\\x97\\x9b\\xa8\\x9e\\x89\\x9a\\x8f\\x97\\xa8\\x9d\\x99\\xa6\\x9a\\x91\\x9d\\x90\\x93\\xa2\\x94\\x9a\\xa8\\x9a\\x98\\x99\\x90\\x9a\\x9e\\x8d\\x9b\\x99\\x8d\\xa8\\xa7\\xa0\\x98\\x99\\x93\\xab\\xab\\xabuj^bbO\\xa5\\xaa\\x9b\\x9a\\xa1\\x97\\xae\\xae\\xae\\xa8\\x9e\\xa1|ldf^W\\x9e\\x9c\\x99\\x9c\\x9e\\x98\\x9a\\xa1\\x96\\x97\\xa2\\x97\\x9b\\xa2\\x9a\\x9a\\x9e\\x95\\x92\\x9a\\x8c\\x96\\xa2\\x93\\x96\\x99\\x90\\x95\\x98\\x8e\\x9a\\x99\\x92\\x9a\\x99\\x94\\x99\\x9a\\x94\\xa6\\xa3\\xa4TI=\\x83\\x7fq\\xa4\\xa7\\x9d\\xa4\\xa1\\xa2hicVVVOIKtf_\\xac\\xa1\\x9f\\xa2\\x9e\\x97\\x9c\\x9d\\x95\\x93\\x95\\x91\\x9a\\x9c\\x98\\xa1\\xa1\\x9e\\xa2\\xa2\\x9f\\x97\\x9e\\x94\\x9c\\x9d\\x95\\x98\\x96\\x93\\x9f\\x9a\\x98\\x9c\\x9a\\x93\\x98\\x99\\x90\\xa8\\x9c\\xa0`JQ{nb\\x8b\\x89\\x7fQQQWWW\\xa7\\xa0\\xa2silyth\\xaf\\xa9\\xa5\\x9c\\x96\\x90\\x99\\x97\\x92\\xa0\\xa0\\x9f\\x9a\\x9a\\x9a\\x9b\\x99\\x9d\\xa0\\x9d\\x9e\\x9e\\x9d\\x9a\\x9d\\x9e\\x98\\x9b\\x99\\x96\\x9c\\x9a\\x95\\x9e\\x9c\\x94\\xa0\\x9a\\x93\\xaf\\x98\\x9a|j`BBBPPP\\x81\\x82\\x82\\xad\\xad\\xad\\xad\\xac\\xacUWQ\\x88\\x8a\\x86\\xa3\\x9c\\x9b\\x99\\x93\\x8c\\x9c\\x9d\\x97\\x9a\\x9a\\x97\\xa0\\x9f\\x9c\\x9c\\x9b\\x9a\\xa0\\x9d\\x9e\\x9e\\x9b\\x9b\\x9a\\x9b\\x95\\x9c\\x97\\x93\\x9a\\x98\\x90\\x9b\\x99\\x91\\x9c\\x9a\\x92\\xa2\\x9e\\x96\\xa3\\xa4\\x9c\\x9b\\x9b\\x9b\\xa7\\xa7\\xa7\\xa2\\xa3\\xa3\\x97\\x97\\x97\\x9f\\x99\\x9eZWY\\x89\\x8a\\x8b\\x9e\\x9c\\x99\\x97\\x98\\x90\\x96\\x9d\\x93\\x92\\x9d\\x94\\x9b\\x9f\\x96\\x9d\\x9f\\x99\\x9f\\x9c\\x9c\\xa8\\xa3\\xa3\\xa0\\x9e\\x99\\x9d\\x96\\x95\\x9f\\x98\\x97\\x9c\\x9a\\x95\\x98\\x99\\x90\\x92\\x99\\x8e\\x95\\x99\\x90\\x9d\\xa0\\x96\\x9e\\xa5\\x9a\\x95\\x98\\x96\\xa2\\xa2\\xa2\\x99\\x94\\x90XVN\\x9d\\x9e\\x98\\x9b\\x9d\\x97\\x91\\x9e\\x94\\x8d\\x9e\\x93\\x8f\\x9d\\x95\\x90\\x9b\\x90\\x94\\xa0\\x91\\xa6\\xa9\\x9f\\x97\\x95\\x90\\x98\\x99\\x93\\x9a\\x94\\x97\\x99\\x97\\x99\\x98\\x98\\x95\\x9d\\xa2\\x97\\x96\\xa2\\x95\\x9e\\xa5\\x9a\\x97\\x9a\\x8e\\x90\\x94\\x85\\x97\\x98\\x8f\\x9a\\x9a\\x9a\\x99\\x8e\\x82_\\\\H\\x92\\x94\\x86\\xa1\\xa2\\x9a\\x97\\x99\\x93\\x98\\x9e\\x99\\x98\\x9e\\x99\\x9e\\xa3\\x98\\x99\\x9f\\x8a\\x9a\\xa0\\x8b\\xa2\\xa4\\x96\\x9d\\x9f\\x9b\\x9f\\x9e\\x9d\\x9c\\x9c\\x99\\x96\\xa1\\x96\\x92\\xa0\\x92\\x90\\x9f\\x92\\x94\\x9f\\x96\\x95\\x9a\\x8d\\x98\\x9a\\x8e\\x97\\x96\\x91\\xa1\\xa2\\x9c\\x9e\\x8c\\x81RJ9\\x8b\\x90{\\x9e\\x9e\\x95\\x9f\\x9a\\x96\\x98\\x99\\x90\\x98\\x9d\\x92\\x9b\\x9b\\x90\\x9a\\x9a\\x8d\\x9a\\x9e\\x8f\\x99\\x9e\\x93\\x9e\\x9e\\x9b\\x9d\\x9d\\x9a\\x9a\\x9f\\x94\\x9d\\xa2\\x93\\x92\\x97\\x88\\x97\\x9a\\x90\\x98\\x9c\\x93\\x97\\x9c\\x91\\x93\\x96\\x8c\\x98\\x96\\x93\\x9e\\x98\\x94\\xa4\\x9a\\x9dxy_FFF\\x91\\x8e\\x8f\\x9f\\x9b\\x94\\x9f\\x9f\\x94\\x9a\\xa2\\x90\\x9f\\xa4\\x97\\x9f\\xa4\\x99\\xa0\\xa2\\x9c\\x9a\\x9c\\x96\\x98\\x9f\\x95\\x98\\x9f\\x97\\x99\\x9a\\x91\\x92\\x96\\x85\\x9d\\x9d\\x90\\x9b\\x99\\x91\\x9a\\x9b\\x92\\x96\\x99\\x8f\\x9c\\x9f\\x95\\x8f\\x90\\x8a\\x96\\x99\\x90\\xa0\\xa0\\x95\\xa2\\xa4\\x96\\xa7\\xa7\\xa7\\x9e\\x9a\\x93\\xa1\\x9d\\x95\\x97\\x95\\x8b\\x95\\x9a\\x8d\\x90\\x9f\\x91\\x93\\xa0\\x94\\x97\\x9a\\x90\\xa2\\xa2\\x99\\xa0\\xa3\\x99\\x91\\x94\\x8b\\x9f\\xa1\\x95\\x98\\x9b\\x89\\x9a\\x9b\\x8b\\xa1\\x9f\\x97\\x9c\\x9e\\x92\\x98\\x9a\\x8e\\x90\\x92\\x86\\x98\\x98\\x8d\\x9a\\x9c\\x90\\x93\\x96\\x8c\\x97\\x9c\\x91\\x99\\x99\\x96\\x9f\\x9d\\x9a\\x9d\\x9b\\x93\\x9b\\x9c\\x93\\x99\\x9b\\x95\\x93\\x9a\\x92\\x95\\xa1\\x94\\x9d\\xa3\\x91\\x9b\\x9d\\x8d\\x97\\x9a\\x8e\\x9a\\x9d\\x91\\x95\\x97\\x8b\\x9d\\xa0\\x8e\\x98\\x98\\x85\\x96\\x96\\x89\\x96\\x99\\x8d\\x98\\x9b\\x91\\x9c\\x9d\\x94\\x98\\x97\\x92\\xa1\\x9c\\x98\\x9e\\xa3\\x98\\x8d\\x9f\\x90\\x96\\xa3\\x97\\x93\\x95\\x8f\\x9b\\x9c\\x93\\x96\\x98\\x92\\x9a\\x9c\\x96\\x9c\\x9d\\x97\\x96\\x9a\\x91\\x9a\\x9f\\x94\\x9c\\x9c\\x93\\xa1\\xa3\\x93\\x9b\\x9a\\x8b\\x99\\x99\\x8e\\x97\\x9b\\x89\\x96\\x9b\\x84\\x91\\x9a\\x86\\x95\\x98\\x8e\\x99\\x9a\\x91\\x96\\x99\\x8f\\x96\\x95\\x92\\x99\\x99\\x99\\x96\\x98\\x94\\x8b\\x99\\x89\\x8c\\x9a\\x8a\\x97\\xa3\\x96\\x98\\x9f\\x95\\x98\\x9a\\x96\\x9a\\x9c\\x98\\x9f\\xa0\\x98\\xa0\\xa2\\x9c\\x97\\x9d\\x98\\x98\\x9c\\x97\\x9c\\x99\\x87\\xa4\\x9f\\x91\\x95\\x93\\x87\\x97\\x9b\\x8a\\x95\\x9d\\x8b\\x8f\\x9b\\x8e\\x9a\\xa1\\x97\\x92\\x93\\x8a\\x8f\\x93\\x8c\\x92\\x95\\x94\\x99\\x9a\\x9a\\x97\\x9b\\x94\\x98\\x9d\\x92\\x95\\xa1\\x94\\x94\\xa3\\x96\\x92\\x9f\\x95\\x99\\x9b\\x97\\x97\\x9e\\x93\\x99\\x9e\\x91\\x95\\x98\\x8f\\x9c\\xa7\\x9e\\x95\\xa4\\x96'\n"
     ]
    }
   ],
   "source": [
    "file = open(p, \"rb\").read()\n",
    "print(file)"
   ]
  },
  {
   "cell_type": "code",
   "execution_count": 56,
   "id": "8bd97860",
   "metadata": {
    "scrolled": true
   },
   "outputs": [
    {
     "name": "stdout",
     "output_type": "stream",
     "text": [
      "[[[157, 160, 150], [148, 161, 141], [144, 152, 138], [155, 157, 151], [157, 150, 149], [157, 156, 149], [151, 156, 143], [146, 159, 139], [152, 160, 144], [146, 158, 145], [151, 163, 150], [152, 164, 149], [151, 163, 148], [152, 159, 148], [153, 160, 152], [155, 166, 155], [148, 156, 140], [153, 157, 142], [154, 155, 146], [157, 160, 148], [158, 167, 147], [149, 157, 139]], [[140, 155, 142], [150, 168, 151], [146, 161, 147], [154, 161, 153], [150, 148, 143], [153, 151, 144], [152, 154, 142], [154, 154, 145], [152, 155, 146], [152, 163, 154], [143, 158, 145], [143, 158, 144], [146, 160, 144], [147, 159, 146], [147, 158, 149], [147, 160, 148], [154, 166, 153], [150, 150, 139], [160, 156, 148], [163, 157, 150], [166, 161, 149], [164, 163, 148]], [[158, 162, 153], [148, 153, 142], [152, 157, 146], [152, 155, 146], [159, 160, 154], [153, 154, 146], [152, 154, 142], [150, 154, 147], [150, 153, 152], [148, 154, 151], [152, 159, 151], [146, 158, 143], [149, 161, 146], [161, 164, 154], [168, 168, 168], [150, 157, 147], [144, 151, 141], [155, 156, 148], [163, 162, 155], [153, 151, 146], [160, 158, 153], [158, 158, 145]], [[155, 154, 149], [152, 150, 142], [157, 155, 145], [151, 153, 141], [151, 154, 144], [159, 160, 151], [157, 162, 151], [159, 167, 159], [147, 161, 155], [149, 159, 155], [149, 149, 148], [156, 155, 152], [167, 168, 168], [140, 140, 131], [110, 108, 100], [154, 157, 147], [155, 160, 149], [157, 158, 149], [149, 150, 141], [155, 158, 149], [157, 158, 150], [160, 160, 151]], [[154, 153, 148], [161, 161, 152], [160, 161, 145], [154, 158, 140], [154, 156, 144], [154, 155, 146], [158, 156, 148], [144, 140, 133], [154, 154, 153], [152, 152, 149], [156, 156, 157], [158, 157, 165], [170, 170, 170], [98, 94, 87], [97, 91, 93], [152, 152, 139], [154, 157, 145], [153, 157, 142], [150, 155, 142], [153, 161, 147], [150, 153, 143], [154, 156, 150]], [[156, 156, 147], [150, 152, 140], [153, 156, 144], [156, 158, 146], [157, 158, 149], [152, 153, 147], [170, 169, 169], [79, 80, 72], [78, 78, 78], [150, 149, 144], [156, 155, 150], [154, 154, 153], [149, 149, 149], [85, 67, 73], [133, 122, 114], [170, 165, 155], [155, 155, 146], [155, 157, 145], [150, 162, 147], [151, 163, 148], [155, 162, 151], [148, 159, 148]], [[158, 158, 147], [150, 150, 139], [155, 153, 143], [162, 163, 154], [155, 154, 151], [166, 166, 166], [153, 153, 153], [87, 66, 73], [124, 122, 114], [160, 164, 155], [148, 148, 148], [166, 166, 166], [150, 139, 139], [82, 71, 69], [150, 150, 141], [150, 152, 146], [154, 160, 155], [149, 156, 146], [149, 161, 144], [147, 159, 144], [143, 155, 142], [146, 158, 145]], [[156, 156, 147], [159, 155, 143], [154, 150, 138], [147, 147, 138], [149, 149, 148], [150, 150, 150], [152, 140, 138], [79, 74, 64], [143, 150, 139], [146, 161, 148], [152, 152, 151], [170, 170, 170], [140, 130, 125], [81, 79, 72], [155, 157, 151], [155, 168, 158], [137, 154, 143], [151, 168, 157], [153, 166, 154], [145, 157, 144], [147, 162, 148], [154, 168, 154]], [[152, 153, 144], [154, 158, 141], [155, 153, 141], [168, 167, 160], [152, 153, 147], [171, 171, 171], [117, 106, 94], [98, 98, 79], [165, 170, 155], [154, 161, 151], [174, 174, 174], [168, 158, 161], [124, 108, 100], [102, 94, 87], [158, 156, 153], [156, 158, 152], [154, 161, 150], [151, 162, 151], [155, 162, 154], [154, 158, 149], [146, 154, 140], [150, 162, 147]], [[150, 153, 144], [149, 152, 142], [154, 153, 146], [154, 153, 148], [153, 154, 148], [166, 163, 164], [84, 73, 61], [131, 127, 113], [164, 167, 157], [164, 161, 162], [104, 105, 99], [86, 86, 86], [79, 73, 75], [116, 102, 95], [172, 161, 159], [162, 158, 151], [156, 157, 149], [147, 149, 145], [154, 156, 152], [161, 161, 158], [162, 162, 159], [151, 158, 148]], [[156, 157, 149], [152, 150, 147], [159, 154, 152], [156, 154, 147], [152, 153, 144], [168, 156, 160], [96, 74, 81], [123, 110, 98], [139, 137, 127], [81, 81, 81], [87, 87, 87], [167, 160, 162], [115, 105, 108], [121, 116, 104], [175, 169, 165], [156, 150, 144], [153, 151, 146], [160, 160, 159], [154, 154, 154], [155, 153, 157], [160, 157, 158], [158, 157, 154]], [[157, 158, 152], [155, 153, 150], [156, 154, 149], [158, 156, 148], [160, 154, 147], [175, 152, 154], [124, 106, 96], [66, 66, 66], [80, 80, 80], [129, 130, 130], [173, 173, 173], [173, 172, 172], [85, 87, 81], [136, 138, 134], [163, 156, 155], [153, 147, 140], [156, 157, 151], [154, 154, 151], [160, 159, 156], [156, 155, 154], [160, 157, 158], [158, 155, 155]], [[154, 155, 149], [156, 151, 147], [154, 152, 144], [155, 153, 145], [156, 154, 146], [162, 158, 150], [163, 164, 156], [155, 155, 155], [167, 167, 167], [162, 163, 163], [151, 151, 151], [159, 153, 158], [90, 87, 89], [137, 138, 139], [158, 156, 153], [151, 152, 144], [150, 157, 147], [146, 157, 148], [155, 159, 150], [157, 159, 153], [159, 156, 156], [168, 163, 163]], [[160, 158, 153], [157, 150, 149], [159, 152, 151], [156, 154, 149], [152, 153, 144], [146, 153, 142], [149, 153, 144], [157, 160, 150], [158, 165, 154], [149, 152, 150], [162, 162, 162], [153, 148, 144], [88, 86, 78], [157, 158, 152], [155, 157, 151], [145, 158, 148], [141, 158, 147], [143, 157, 149], [144, 155, 144], [148, 160, 145], [166, 169, 159], [151, 149, 144]], [[152, 153, 147], [154, 148, 151], [153, 151, 153], [152, 152, 149], [157, 162, 151], [150, 162, 149], [158, 165, 154], [151, 154, 142], [144, 148, 133], [151, 152, 143], [154, 154, 154], [153, 142, 130], [95, 92, 72], [146, 148, 134], [161, 162, 154], [151, 153, 147], [152, 158, 153], [152, 158, 153], [158, 163, 152], [153, 159, 138], [154, 160, 139], [162, 164, 150]], [[157, 159, 155], [159, 158, 157], [156, 156, 153], [150, 161, 150], [146, 160, 146], [144, 159, 146], [148, 159, 150], [149, 154, 141], [152, 154, 142], [151, 150, 145], [161, 162, 156], [158, 140, 129], [82, 74, 57], [139, 144, 123], [158, 158, 149], [159, 154, 150], [152, 153, 144], [152, 157, 146], [155, 155, 144], [154, 154, 141], [154, 158, 143], [153, 158, 147]], [[158, 158, 155], [157, 157, 154], [154, 159, 148], [157, 162, 147], [146, 151, 136], [151, 154, 144], [152, 156, 147], [151, 156, 145], [147, 150, 140], [152, 150, 147], [158, 152, 148], [164, 154, 157], [120, 121, 95], [70, 70, 70], [145, 142, 143], [159, 155, 148], [159, 159, 148], [154, 162, 144], [159, 164, 151], [159, 164, 153], [160, 162, 156], [154, 156, 150]], [[152, 159, 149], [152, 159, 151], [153, 154, 145], [146, 150, 133], [157, 157, 144], [155, 153, 145], [154, 155, 146], [150, 153, 143], [156, 159, 149], [143, 144, 138], [150, 153, 144], [160, 160, 149], [162, 164, 150], [167, 167, 167], [158, 154, 147], [161, 157, 149], [151, 149, 139], [149, 154, 141], [144, 159, 145], [147, 160, 148], [151, 154, 144], [162, 162, 153]], [[160, 163, 153], [145, 148, 139], [159, 161, 149], [152, 155, 137], [154, 155, 139], [161, 159, 151], [156, 158, 146], [152, 154, 142], [144, 146, 134], [152, 152, 141], [154, 156, 144], [147, 150, 140], [151, 156, 145], [153, 153, 150], [159, 157, 154], [157, 155, 147], [155, 156, 147], [153, 155, 149], [147, 154, 146], [149, 161, 148], [157, 163, 145], [155, 157, 141]], [[151, 154, 142], [154, 157, 145], [149, 151, 139], [157, 160, 142], [152, 152, 133], [150, 150, 137], [150, 153, 141], [152, 155, 145], [156, 157, 148], [152, 151, 146], [161, 156, 152], [158, 163, 152], [141, 159, 144], [150, 163, 151], [147, 149, 143], [155, 156, 147], [150, 152, 146], [154, 156, 150], [156, 157, 151], [150, 154, 145], [154, 159, 148], [156, 156, 147]], [[161, 163, 147], [155, 154, 139], [153, 153, 142], [151, 155, 137], [150, 155, 132], [145, 154, 134], [149, 152, 142], [153, 154, 145], [150, 153, 143], [150, 149, 146], [153, 153, 153], [150, 152, 148], [139, 153, 137], [140, 154, 138], [151, 163, 150], [152, 159, 149], [152, 154, 150], [154, 156, 152], [159, 160, 152], [160, 162, 156], [151, 157, 152], [152, 156, 151]], [[156, 153, 135], [164, 159, 145], [149, 147, 135], [151, 155, 138], [149, 157, 139], [143, 155, 142], [154, 161, 151], [146, 147, 138], [143, 147, 140], [146, 149, 148], [153, 154, 154], [151, 155, 148], [152, 157, 146], [149, 161, 148], [148, 163, 150], [146, 159, 149], [153, 155, 151], [151, 158, 147], [153, 158, 145], [149, 152, 143], [156, 167, 158], [149, 164, 150]]]\n"
     ]
    }
   ],
   "source": [
    "image = []\n",
    "for i in range(22):\n",
    "    temp = []\n",
    "    for j in range(22):\n",
    "        red = file[20+ (i*22+j)*3]\n",
    "        green = file[20+ (i*22+j)*3+1]\n",
    "        blue = file[20+ (i*22+j)*3+2]\n",
    "        temp.append([red, green, blue])\n",
    "    image.append(temp)\n",
    "print(image)"
   ]
  },
  {
   "cell_type": "code",
   "execution_count": 57,
   "id": "5e3218e6",
   "metadata": {},
   "outputs": [],
   "source": [
    "def load_image(path):\n",
    "    file = open(path, \"rb\").read()\n",
    "    image = []\n",
    "    for i in range(22):\n",
    "        temp = []\n",
    "        for j in range(22):\n",
    "            red = file[20+ (i*22+j)*3]\n",
    "            green = file[20+ (i*22+j)*3+1]\n",
    "            blue = file[20+ (i*22+j)*3+2]\n",
    "            temp.append([red, green, blue])\n",
    "        image.append(temp)\n",
    "    return image"
   ]
  },
  {
   "cell_type": "markdown",
   "id": "d8f3256e",
   "metadata": {},
   "source": [
    "### Daten anzeigen"
   ]
  },
  {
   "cell_type": "code",
   "execution_count": 59,
   "id": "43b8008d",
   "metadata": {},
   "outputs": [],
   "source": [
    "import numpy as np\n",
    "import matplotlib.pyplot as plt"
   ]
  },
  {
   "cell_type": "code",
   "execution_count": 60,
   "id": "95e78dc5",
   "metadata": {},
   "outputs": [],
   "source": [
    "img = load_image(p)"
   ]
  },
  {
   "cell_type": "code",
   "execution_count": 61,
   "id": "3edf1530",
   "metadata": {},
   "outputs": [
    {
     "name": "stdout",
     "output_type": "stream",
     "text": [
      "(22, 22, 3)\n"
     ]
    }
   ],
   "source": [
    "img_np = np.array(img)\n",
    "print(img_np.shape)"
   ]
  },
  {
   "cell_type": "code",
   "execution_count": 62,
   "id": "83b4b19a",
   "metadata": {},
   "outputs": [
    {
     "data": {
      "text/plain": [
       "<matplotlib.image.AxesImage at 0x193e16e5ac0>"
      ]
     },
     "execution_count": 62,
     "metadata": {},
     "output_type": "execute_result"
    },
    {
     "data": {
      "image/png": "[encoded data removed]",
      "text/plain": [
       "<Figure size 432x288 with 1 Axes>"
      ]
     },
     "metadata": {
      "needs_background": "light"
     },
     "output_type": "display_data"
    }
   ],
   "source": [
    "plt.imshow(img_np)"
   ]
  },
  {
   "cell_type": "code",
   "execution_count": null,
   "id": "64c63ef4",
   "metadata": {},
   "outputs": [],
   "source": []
  }
 ],
 "metadata": {
  "kernelspec": {
   "display_name": "Python 3.8.10 ('.venv': venv)",
   "language": "python",
   "name": "python3"
  },
  "language_info": {
   "codemirror_mode": {
    "name": "ipython",
    "version": 3
   },
   "file_extension": ".py",
   "mimetype": "text/x-python",
   "name": "python",
   "nbconvert_exporter": "python",
   "pygments_lexer": "ipython3",
   "version": "3.8.10"
  },
  "vscode": {
   "interpreter": {
    "hash": "c1b0947c14246c20a0a6a61f4f6c89de9c062f3adf9d61bef5b77adedfa6fa7f"
   }
  }
 },
 "nbformat": 4,
 "nbformat_minor": 5
}
